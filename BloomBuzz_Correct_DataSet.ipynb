{
  "nbformat": 4,
  "nbformat_minor": 0,
  "metadata": {
    "colab": {
      "provenance": [],
      "authorship_tag": "ABX9TyPkxzJ4RZolEiwWnx5H2HlY",
      "include_colab_link": true
    },
    "kernelspec": {
      "name": "python3",
      "display_name": "Python 3"
    },
    "language_info": {
      "name": "python"
    }
  },
  "cells": [
    {
      "cell_type": "markdown",
      "metadata": {
        "id": "view-in-github",
        "colab_type": "text"
      },
      "source": [
        "<a href=\"https://colab.research.google.com/github/niftyspace/bloombuzz/blob/main/BloomBuzz_Correct_DataSet.ipynb\" target=\"_parent\"><img src=\"https://colab.research.google.com/assets/colab-badge.svg\" alt=\"Open In Colab\"/></a>"
      ]
    },
    {
      "cell_type": "code",
      "execution_count": null,
      "metadata": {
        "colab": {
          "base_uri": "https://localhost:8080/",
          "height": 73
        },
        "id": "GmYKknO_rAJ0",
        "outputId": "07f9d9d6-2e16-41d4-c077-17a7b4d60f76"
      },
      "outputs": [
        {
          "output_type": "display_data",
          "data": {
            "text/plain": [
              "<IPython.core.display.HTML object>"
            ],
            "text/html": [
              "\n",
              "     <input type=\"file\" id=\"files-fe7c78e1-feaf-4146-8f4f-c209ee357e24\" name=\"files[]\" multiple disabled\n",
              "        style=\"border:none\" />\n",
              "     <output id=\"result-fe7c78e1-feaf-4146-8f4f-c209ee357e24\">\n",
              "      Upload widget is only available when the cell has been executed in the\n",
              "      current browser session. Please rerun this cell to enable.\n",
              "      </output>\n",
              "      <script>// Copyright 2017 Google LLC\n",
              "//\n",
              "// Licensed under the Apache License, Version 2.0 (the \"License\");\n",
              "// you may not use this file except in compliance with the License.\n",
              "// You may obtain a copy of the License at\n",
              "//\n",
              "//      http://www.apache.org/licenses/LICENSE-2.0\n",
              "//\n",
              "// Unless required by applicable law or agreed to in writing, software\n",
              "// distributed under the License is distributed on an \"AS IS\" BASIS,\n",
              "// WITHOUT WARRANTIES OR CONDITIONS OF ANY KIND, either express or implied.\n",
              "// See the License for the specific language governing permissions and\n",
              "// limitations under the License.\n",
              "\n",
              "/**\n",
              " * @fileoverview Helpers for google.colab Python module.\n",
              " */\n",
              "(function(scope) {\n",
              "function span(text, styleAttributes = {}) {\n",
              "  const element = document.createElement('span');\n",
              "  element.textContent = text;\n",
              "  for (const key of Object.keys(styleAttributes)) {\n",
              "    element.style[key] = styleAttributes[key];\n",
              "  }\n",
              "  return element;\n",
              "}\n",
              "\n",
              "// Max number of bytes which will be uploaded at a time.\n",
              "const MAX_PAYLOAD_SIZE = 100 * 1024;\n",
              "\n",
              "function _uploadFiles(inputId, outputId) {\n",
              "  const steps = uploadFilesStep(inputId, outputId);\n",
              "  const outputElement = document.getElementById(outputId);\n",
              "  // Cache steps on the outputElement to make it available for the next call\n",
              "  // to uploadFilesContinue from Python.\n",
              "  outputElement.steps = steps;\n",
              "\n",
              "  return _uploadFilesContinue(outputId);\n",
              "}\n",
              "\n",
              "// This is roughly an async generator (not supported in the browser yet),\n",
              "// where there are multiple asynchronous steps and the Python side is going\n",
              "// to poll for completion of each step.\n",
              "// This uses a Promise to block the python side on completion of each step,\n",
              "// then passes the result of the previous step as the input to the next step.\n",
              "function _uploadFilesContinue(outputId) {\n",
              "  const outputElement = document.getElementById(outputId);\n",
              "  const steps = outputElement.steps;\n",
              "\n",
              "  const next = steps.next(outputElement.lastPromiseValue);\n",
              "  return Promise.resolve(next.value.promise).then((value) => {\n",
              "    // Cache the last promise value to make it available to the next\n",
              "    // step of the generator.\n",
              "    outputElement.lastPromiseValue = value;\n",
              "    return next.value.response;\n",
              "  });\n",
              "}\n",
              "\n",
              "/**\n",
              " * Generator function which is called between each async step of the upload\n",
              " * process.\n",
              " * @param {string} inputId Element ID of the input file picker element.\n",
              " * @param {string} outputId Element ID of the output display.\n",
              " * @return {!Iterable<!Object>} Iterable of next steps.\n",
              " */\n",
              "function* uploadFilesStep(inputId, outputId) {\n",
              "  const inputElement = document.getElementById(inputId);\n",
              "  inputElement.disabled = false;\n",
              "\n",
              "  const outputElement = document.getElementById(outputId);\n",
              "  outputElement.innerHTML = '';\n",
              "\n",
              "  const pickedPromise = new Promise((resolve) => {\n",
              "    inputElement.addEventListener('change', (e) => {\n",
              "      resolve(e.target.files);\n",
              "    });\n",
              "  });\n",
              "\n",
              "  const cancel = document.createElement('button');\n",
              "  inputElement.parentElement.appendChild(cancel);\n",
              "  cancel.textContent = 'Cancel upload';\n",
              "  const cancelPromise = new Promise((resolve) => {\n",
              "    cancel.onclick = () => {\n",
              "      resolve(null);\n",
              "    };\n",
              "  });\n",
              "\n",
              "  // Wait for the user to pick the files.\n",
              "  const files = yield {\n",
              "    promise: Promise.race([pickedPromise, cancelPromise]),\n",
              "    response: {\n",
              "      action: 'starting',\n",
              "    }\n",
              "  };\n",
              "\n",
              "  cancel.remove();\n",
              "\n",
              "  // Disable the input element since further picks are not allowed.\n",
              "  inputElement.disabled = true;\n",
              "\n",
              "  if (!files) {\n",
              "    return {\n",
              "      response: {\n",
              "        action: 'complete',\n",
              "      }\n",
              "    };\n",
              "  }\n",
              "\n",
              "  for (const file of files) {\n",
              "    const li = document.createElement('li');\n",
              "    li.append(span(file.name, {fontWeight: 'bold'}));\n",
              "    li.append(span(\n",
              "        `(${file.type || 'n/a'}) - ${file.size} bytes, ` +\n",
              "        `last modified: ${\n",
              "            file.lastModifiedDate ? file.lastModifiedDate.toLocaleDateString() :\n",
              "                                    'n/a'} - `));\n",
              "    const percent = span('0% done');\n",
              "    li.appendChild(percent);\n",
              "\n",
              "    outputElement.appendChild(li);\n",
              "\n",
              "    const fileDataPromise = new Promise((resolve) => {\n",
              "      const reader = new FileReader();\n",
              "      reader.onload = (e) => {\n",
              "        resolve(e.target.result);\n",
              "      };\n",
              "      reader.readAsArrayBuffer(file);\n",
              "    });\n",
              "    // Wait for the data to be ready.\n",
              "    let fileData = yield {\n",
              "      promise: fileDataPromise,\n",
              "      response: {\n",
              "        action: 'continue',\n",
              "      }\n",
              "    };\n",
              "\n",
              "    // Use a chunked sending to avoid message size limits. See b/62115660.\n",
              "    let position = 0;\n",
              "    do {\n",
              "      const length = Math.min(fileData.byteLength - position, MAX_PAYLOAD_SIZE);\n",
              "      const chunk = new Uint8Array(fileData, position, length);\n",
              "      position += length;\n",
              "\n",
              "      const base64 = btoa(String.fromCharCode.apply(null, chunk));\n",
              "      yield {\n",
              "        response: {\n",
              "          action: 'append',\n",
              "          file: file.name,\n",
              "          data: base64,\n",
              "        },\n",
              "      };\n",
              "\n",
              "      let percentDone = fileData.byteLength === 0 ?\n",
              "          100 :\n",
              "          Math.round((position / fileData.byteLength) * 100);\n",
              "      percent.textContent = `${percentDone}% done`;\n",
              "\n",
              "    } while (position < fileData.byteLength);\n",
              "  }\n",
              "\n",
              "  // All done.\n",
              "  yield {\n",
              "    response: {\n",
              "      action: 'complete',\n",
              "    }\n",
              "  };\n",
              "}\n",
              "\n",
              "scope.google = scope.google || {};\n",
              "scope.google.colab = scope.google.colab || {};\n",
              "scope.google.colab._files = {\n",
              "  _uploadFiles,\n",
              "  _uploadFilesContinue,\n",
              "};\n",
              "})(self);\n",
              "</script> "
            ]
          },
          "metadata": {}
        },
        {
          "output_type": "stream",
          "name": "stdout",
          "text": [
            "Saving instagram_data.csv to instagram_data.csv\n"
          ]
        }
      ],
      "source": [
        "from google.colab import files\n",
        "uploaded = files.upload()"
      ]
    },
    {
      "cell_type": "code",
      "source": [
        "import pandas as pd\n",
        "\n",
        "file_name = list(uploaded.keys())[0]  # Automatically get the file name\n",
        "df = pd.read_csv(file_name)\n",
        "\n",
        "# Check the DataFrame\n",
        "print(\"DataFrame Shape:\", df.shape)\n",
        "print(\"First few rows of the DataFrame:\")\n",
        "print(df.head())"
      ],
      "metadata": {
        "colab": {
          "base_uri": "https://localhost:8080/"
        },
        "id": "5yFsmf3WCohh",
        "outputId": "183784b8-a2f5-4fa8-b145-42e01171c592"
      },
      "execution_count": null,
      "outputs": [
        {
          "output_type": "stream",
          "name": "stdout",
          "text": [
            "DataFrame Shape: (11692, 14)\n",
            "First few rows of the DataFrame:\n",
            "   owner_id     owner_username    shortcode is_video  \\\n",
            "0  36063641  christendominique  C3_GS1ASeWI    False   \n",
            "1  36063641  christendominique  C38ivgNS3IX     True   \n",
            "2  36063641  christendominique  C35-Dd9SO1b     True   \n",
            "3  36063641  christendominique  C33TadDMisq     True   \n",
            "4  36063641  christendominique  C3s-Cm1yCba     True   \n",
            "\n",
            "                                             caption comments  likes  \\\n",
            "0  I’m a brunch & Iced Coffee girlie☕️🍳 \\n\\nTop @...      268  16382   \n",
            "1  😮‍💨Brow tips I really wish I would have know w...      138   9267   \n",
            "2  OMG I can’t believe it’s already been 1 yr sin...     1089  10100   \n",
            "3  90’s Glam was Pam! \\n\\nMakeup \\n@smashboxcosme...      271   6943   \n",
            "4  Chiseled & Sculptured 🏛️\\n\\n Contour @westmana...      145  17158   \n",
            "\n",
            "     created_at location                                           imageUrl  \\\n",
            "0  1.709327e+09      NaN  https://instagram.flba2-1.fna.fbcdn.net/v/t39....   \n",
            "1  1.709241e+09      NaN  https://instagram.flba2-1.fna.fbcdn.net/v/t51....   \n",
            "2  1.709155e+09      NaN  https://instagram.flba2-1.fna.fbcdn.net/v/t51....   \n",
            "3  1.709065e+09      NaN  https://instagram.flba2-1.fna.fbcdn.net/v/t51....   \n",
            "4  1.708718e+09      NaN  https://instagram.flba2-1.fna.fbcdn.net/v/t51....   \n",
            "\n",
            "  multiple_images           username  followers  following  \n",
            "0            True  christendominique  2144626.0     1021.0  \n",
            "1           False  christendominique  2144626.0     1021.0  \n",
            "2           False  christendominique  2144626.0     1021.0  \n",
            "3           False  christendominique  2144626.0     1021.0  \n",
            "4           False  christendominique  2144626.0     1021.0  \n"
          ]
        }
      ]
    },
    {
      "cell_type": "code",
      "source": [
        "# Check the data types of the relevant columns\n",
        "print(df[['likes', 'comments', 'followers']].dtypes)"
      ],
      "metadata": {
        "colab": {
          "base_uri": "https://localhost:8080/"
        },
        "id": "a5LfZon9Ep4n",
        "outputId": "1aa7c4ce-6c2f-416e-a529-b94dd2dc4fa8"
      },
      "execution_count": null,
      "outputs": [
        {
          "output_type": "stream",
          "name": "stdout",
          "text": [
            "likes         object\n",
            "comments      object\n",
            "followers    float64\n",
            "dtype: object\n"
          ]
        }
      ]
    },
    {
      "cell_type": "code",
      "source": [
        "# Convert likes, comments, and followers to numeric\n",
        "df['likes'] = pd.to_numeric(df['likes'], errors='coerce')\n",
        "df['comments'] = pd.to_numeric(df['comments'], errors='coerce')\n",
        "df['followers'] = pd.to_numeric(df['followers'], errors='coerce')\n",
        "\n",
        "# Check for any NaN values after conversion\n",
        "print(\"NaN values in likes, comments, or followers:\")\n",
        "print(df[['likes', 'comments', 'followers']].isna().sum())"
      ],
      "metadata": {
        "colab": {
          "base_uri": "https://localhost:8080/"
        },
        "id": "gsYFlj6QEvrG",
        "outputId": "4d0a3097-ed69-48ca-9a6a-64fdfa72ca31"
      },
      "execution_count": null,
      "outputs": [
        {
          "output_type": "stream",
          "name": "stdout",
          "text": [
            "NaN values in likes, comments, or followers:\n",
            "likes           3\n",
            "comments        3\n",
            "followers    2115\n",
            "dtype: int64\n"
          ]
        }
      ]
    },
    {
      "cell_type": "code",
      "source": [
        "#Fill NaN values with 0\n",
        "df.fillna(0, inplace=True)"
      ],
      "metadata": {
        "id": "IMCoYr8NE2iN"
      },
      "execution_count": null,
      "outputs": []
    },
    {
      "cell_type": "code",
      "source": [
        "# Check the DataFrame again\n",
        "print(\"DataFrame after handling NaN values:\")\n",
        "print(df[['likes', 'comments', 'followers']].head())"
      ],
      "metadata": {
        "colab": {
          "base_uri": "https://localhost:8080/"
        },
        "id": "IOPuMMB1E853",
        "outputId": "eb711ddf-73d3-45bf-e74d-554b949dbe09"
      },
      "execution_count": null,
      "outputs": [
        {
          "output_type": "stream",
          "name": "stdout",
          "text": [
            "DataFrame after handling NaN values:\n",
            "     likes  comments  followers\n",
            "0  16382.0     268.0  2144626.0\n",
            "1   9267.0     138.0  2144626.0\n",
            "2  10100.0    1089.0  2144626.0\n",
            "3   6943.0     271.0  2144626.0\n",
            "4  17158.0     145.0  2144626.0\n"
          ]
        }
      ]
    },
    {
      "cell_type": "code",
      "source": [
        "# Step 2: Feature Engineering\n",
        "\n",
        "# 1. Create engagement rate\n",
        "df['engagement_rate'] = (df['likes'] + df['comments']) / df['followers']\n",
        "\n",
        "# 2. Create caption length\n",
        "df['caption_length'] = df['caption'].apply(lambda x: len(x) if isinstance(x, str) else 0)\n",
        "\n",
        "# 3. Create content type based on whether it is a video or not\n",
        "df['content_type'] = df['is_video'].apply(lambda x: 'video' if x else 'image')\n",
        "\n",
        "# Display the updated DataFrame with new features\n",
        "print(\"Updated DataFrame with new features:\")\n",
        "print(df[['engagement_rate', 'caption_length', 'content_type']].head())"
      ],
      "metadata": {
        "colab": {
          "base_uri": "https://localhost:8080/"
        },
        "id": "_z1IjOzPE_OT",
        "outputId": "f711a709-eb09-48d1-9112-5f81be0cb33c"
      },
      "execution_count": null,
      "outputs": [
        {
          "output_type": "stream",
          "name": "stdout",
          "text": [
            "Updated DataFrame with new features:\n",
            "   engagement_rate  caption_length content_type\n",
            "0         0.007764              71        video\n",
            "1         0.004385             292        video\n",
            "2         0.005217             612        video\n",
            "3         0.003364             482        video\n",
            "4         0.008068             150        video\n"
          ]
        }
      ]
    },
    {
      "cell_type": "code",
      "source": [
        "# Step 2: Feature Engineering with Niche Indicator\n",
        "\n",
        "# Define the keywords for each niche\n",
        "niche_keywords = {\n",
        "    'makeup': ['makeup', 'cosmetics', 'beauty', 'glam', 'brush', 'foundation', 'highlighter', 'lipstick', 'skincare', 'blush', 'eyeshadow', 'contour', 'lashes'],\n",
        "    'fitness': ['fitness', 'gym', 'workout', 'exercise', 'health', 'wellness', 'yoga', 'cardio', 'weights', 'bodygoals', 'fitspo', 'healthy', 'strong', 'run'],\n",
        "    'fashion': ['fashion', 'style', 'outfit', 'ootd', 'clothing', 'apparel', 'trend', 'chic', 'hair', 'accessories', 'wardrobe', 'runway', 'streetwear', 'vintage'],\n",
        "    'food': ['coffee', 'food', 'recipe', 'cooking', 'baking', 'dinner', 'lunch', 'brunch', 'breakfast', 'dessert', 'snacks', 'wine', 'tea', 'foodie', 'yum'],\n",
        "    'travel': ['travel', 'trip', 'vacation', 'explore', 'adventure', 'wanderlust', 'passport', 'journey', 'escape', 'landscape', 'scenic', 'beach', 'mountains', 'memories', 'bucketlist'],\n",
        "    'technology': ['tech', 'gadget', 'software', 'device', 'innovation', 'digital', 'smart', 'AI', 'coding', 'geek', 'electronics', 'trends', 'gaming', 'apps', 'review'],\n",
        "    'read': ['book', 'read', 'library', 'study', 'learning', 'knowledge', 'literature', 'poetry', 'chapter', 'write', 'mindset', 'wisdom', 'words'],\n",
        "    'lifestyle': ['lifestyle', 'home', 'decor', 'DIY', 'minimalism', 'aesthetic', 'cozy', 'interior', 'routine', 'selfcare', 'hygge', 'organization', 'vibes', 'chill', 'special'],\n",
        "    'family': ['parenting', 'mom', 'dad', 'children', 'family', 'siblings', 'bond', 'baby', 'kids', 'grandparents', 'love', 'happiness', 'home', 'nurture', 'play'],\n",
        "    'pets': ['pet', 'dog', 'cat', 'animal', 'cute', 'puppy', 'kitten', 'paw', 'rescue', 'adoption', 'love', 'furry', 'friend', 'wildlife', 'petcare'],\n",
        "    'art': ['art', 'painting', 'drawing', 'illustration', 'creative', 'design', 'craft', 'sketch', 'imagination', 'artist', 'color', 'gallery', 'doodle', 'abstract'],\n",
        "    'motivation': ['motivation', 'inspiration', 'goals', 'mindset', 'dream', 'positivity', 'success', 'hustle', 'gratitude', 'growth'],\n",
        "    'gaming': ['gaming', 'gamer', 'play', 'videogame', 'stream', 'esports', 'console', 'PC', 'gameplay', 'arcade', 'levelup', 'tournament', 'multiplayer'],\n",
        "    'events': ['event', 'party', 'celebration', 'wedding', 'birthday', 'anniversary', 'festival', 'concert', 'gathering', 'occasion', 'fun', 'decorations'],\n",
        "    'music': ['music', 'song', 'playlist', 'artist', 'band', 'concert', 'dance', 'melody', 'lyrics', 'album', 'beat', 'DJ', 'tune', 'performance', 'sound'],\n",
        "    'sports': ['sports', 'team', 'game', 'soccer', 'basketball', 'football', 'baseball', 'tennis', 'goal', 'win', 'athlete', 'training', 'match', 'fans', 'score'],\n",
        "    'cars': ['car', 'automobile', 'vehicle', 'drive', 'racing', 'luxury', 'engine', 'roadtrip', 'speed', 'garage', 'offroad', 'classic', 'ride', 'wheels', 'adventure'],\n",
        "    'movies': ['movie', 'film', 'cinema', 'hollywood', 'bollywood', 'actor', 'director', 'scene', 'review', 'popcorn', 'theater', 'trailer', 'series', 'story'],\n",
        "    'photography': ['photography', 'photo', 'camera', 'lens', 'capture', 'portrait', 'landscape', 'snap', 'editing', 'shutter', 'focus', 'studio', 'gallery', 'filters'],\n",
        "    'entrepreneurship': ['business', 'entrepreneur', 'startup', 'marketing', 'hustle', 'strategy', 'network', 'goals', 'innovation', 'teamwork', 'leadership', 'success', 'motivation', 'wealth'],\n",
        "    'nature': ['nature', 'outdoors', 'forest', 'wildlife', 'green', 'hiking', 'adventure', 'scenic', 'mountains', 'river', 'landscape', 'peaceful', 'environment', 'flora', 'fauna'],\n",
        "    'relationships': ['love', 'relationship', 'couple', 'romance', 'friendship', 'bond', 'connection', 'feelings', 'dating', 'partner', 'support', 'family', 'together'],\n",
        "    'education': ['education', 'learning', 'school', 'study', 'college', 'university', 'knowledge', 'teacher', 'student', 'classroom', 'lesson', 'skills', 'growth'],\n",
        "    'quotes': ['quote', 'quotes', 'inspiration', 'words', 'mindset', 'motivation', 'success', 'positivity', 'wisdom', 'proverbs', 'writing', 'thought', 'expression', 'creativity']\n",
        "}\n",
        "\n",
        "# Function to determine the niche based on keywords in the caption\n",
        "def classify_niche(caption):\n",
        "    if isinstance(caption, str):\n",
        "        caption_lower = caption.lower()  # Convert to lowercase for matching\n",
        "        for niche, keywords in niche_keywords.items():\n",
        "            if any(keyword in caption_lower for keyword in keywords):\n",
        "                return niche\n",
        "\n",
        "# Create the niche indicator column\n",
        "df['niche'] = df['caption'].apply(classify_niche)\n",
        "\n",
        "# Display the updated DataFrame with the new niche column\n",
        "print(\"Updated DataFrame with Niche Indicator:\")\n",
        "print(df[['caption', 'niche']].head())"
      ],
      "metadata": {
        "colab": {
          "base_uri": "https://localhost:8080/"
        },
        "id": "6qlqszVoFFn3",
        "outputId": "432a1aa5-08f9-4c8e-f096-e63a23a814bd"
      },
      "execution_count": null,
      "outputs": [
        {
          "output_type": "stream",
          "name": "stdout",
          "text": [
            "Updated DataFrame with Niche Indicator:\n",
            "                                             caption    niche\n",
            "0  I’m a brunch & Iced Coffee girlie☕️🍳 \\n\\nTop @...  fitness\n",
            "1  😮‍💨Brow tips I really wish I would have know w...   makeup\n",
            "2  OMG I can’t believe it’s already been 1 yr sin...   makeup\n",
            "3  90’s Glam was Pam! \\n\\nMakeup \\n@smashboxcosme...   makeup\n",
            "4  Chiseled & Sculptured 🏛️\\n\\n Contour @westmana...   makeup\n"
          ]
        }
      ]
    },
    {
      "cell_type": "code",
      "source": [
        "print(\"Number of None or NaN values in 'niche':\", df['niche'].isnull().sum())"
      ],
      "metadata": {
        "colab": {
          "base_uri": "https://localhost:8080/"
        },
        "id": "48xdPwe7HIkZ",
        "outputId": "afb3284c-9617-45e1-857e-b6ea0e8f9819"
      },
      "execution_count": null,
      "outputs": [
        {
          "output_type": "stream",
          "name": "stdout",
          "text": [
            "Number of None or NaN values in 'niche': 3550\n"
          ]
        }
      ]
    },
    {
      "cell_type": "code",
      "source": [
        "df = df.dropna(subset=['niche'])"
      ],
      "metadata": {
        "id": "FRZbdIkZHL_I"
      },
      "execution_count": null,
      "outputs": []
    },
    {
      "cell_type": "code",
      "source": [
        "from sklearn.model_selection import train_test_split\n",
        "\n",
        "# Step 3: Prepare the Data\n",
        "\n",
        "# Define the features (X) and the target variable (y)\n",
        "X = df[['engagement_rate', 'caption_length', 'likes', 'comments']]  # Features\n",
        "y = df['niche']  # Target variable (niche indicator)\n",
        "\n",
        "# Split the data into training and testing sets\n",
        "X_train, X_test, y_train, y_test = train_test_split(X, y, test_size=0.2, random_state=42, stratify=y)\n",
        "\n",
        "# Display the shapes of the train and test sets\n",
        "print(\"X_train shape:\", X_train.shape)\n",
        "print(\"X_test shape:\", X_test.shape)\n",
        "print(\"y_train shape:\", y_train.shape)\n",
        "print(\"y_test shape:\", y_test.shape)"
      ],
      "metadata": {
        "colab": {
          "base_uri": "https://localhost:8080/"
        },
        "id": "n5ktg569FLyy",
        "outputId": "999c9f29-658b-4401-ef6d-aa1e2bf9cc7b"
      },
      "execution_count": null,
      "outputs": [
        {
          "output_type": "stream",
          "name": "stdout",
          "text": [
            "X_train shape: (6513, 4)\n",
            "X_test shape: (1629, 4)\n",
            "y_train shape: (6513,)\n",
            "y_test shape: (1629,)\n"
          ]
        }
      ]
    },
    {
      "cell_type": "code",
      "source": [
        "# Check for NaN values in X_train\n",
        "print(\"NaN values in X_train:\")\n",
        "print(X_train.isna().sum())\n",
        "\n",
        "import numpy as np\n",
        "# Check for infinite values in X_train\n",
        "print(\"\\nInfinite values in X_train:\")\n",
        "print(np.isinf(X_train).sum())"
      ],
      "metadata": {
        "colab": {
          "base_uri": "https://localhost:8080/"
        },
        "id": "1YhaEeavGUKc",
        "outputId": "0e2821c8-6689-4d10-fca6-38cc804092fe"
      },
      "execution_count": null,
      "outputs": [
        {
          "output_type": "stream",
          "name": "stdout",
          "text": [
            "NaN values in X_train:\n",
            "engagement_rate    0\n",
            "caption_length     0\n",
            "likes              0\n",
            "comments           0\n",
            "dtype: int64\n",
            "\n",
            "Infinite values in X_train:\n",
            "engagement_rate    1238\n",
            "caption_length        0\n",
            "likes                 0\n",
            "comments              0\n",
            "dtype: int64\n"
          ]
        }
      ]
    },
    {
      "cell_type": "code",
      "source": [
        "# Option 1: Fill NaN values with 0\n",
        "X_train.fillna(0, inplace=True)\n",
        "\n",
        "# Option 2: Drop rows with NaN values\n",
        "# X_train.dropna(inplace=True)\n",
        "\n",
        "# Handle infinite values\n",
        "X_train.replace([np.inf, -np.inf], 0, inplace=True)  # Replace infinite values with 0\n",
        "\n",
        "# Repeat the same for X_test\n",
        "X_test.fillna(0, inplace=True)\n",
        "X_test.replace([np.inf, -np.inf], 0, inplace=True)\n",
        "\n",
        "# Check again for NaN and infinite values\n",
        "print(\"NaN values in X_train after handling:\")\n",
        "print(X_train.isna().sum())\n",
        "print(\"Infinite values in X_train after handling:\")\n",
        "print(np.isinf(X_train).sum())"
      ],
      "metadata": {
        "colab": {
          "base_uri": "https://localhost:8080/"
        },
        "id": "NOjWk5-cGbJs",
        "outputId": "53603bcb-b138-4aa1-de71-50641097f7f6"
      },
      "execution_count": null,
      "outputs": [
        {
          "output_type": "stream",
          "name": "stdout",
          "text": [
            "NaN values in X_train after handling:\n",
            "engagement_rate    0\n",
            "caption_length     0\n",
            "likes              0\n",
            "comments           0\n",
            "dtype: int64\n",
            "Infinite values in X_train after handling:\n",
            "engagement_rate    0\n",
            "caption_length     0\n",
            "likes              0\n",
            "comments           0\n",
            "dtype: int64\n"
          ]
        }
      ]
    },
    {
      "cell_type": "code",
      "source": [
        "from sklearn.ensemble import RandomForestClassifier\n",
        "from sklearn.metrics import classification_report, confusion_matrix, accuracy_score\n",
        "\n",
        "# Step 4: Train the Model\n",
        "\n",
        "# Initialize the Random Forest Classifier\n",
        "model = RandomForestClassifier(random_state=42)\n",
        "\n",
        "# Fit the model to the training data\n",
        "model.fit(X_train, y_train)"
      ],
      "metadata": {
        "colab": {
          "base_uri": "https://localhost:8080/",
          "height": 80
        },
        "id": "OPROvlP8Gdot",
        "outputId": "6c0d461e-9951-4aec-c65f-783032407635"
      },
      "execution_count": null,
      "outputs": [
        {
          "output_type": "execute_result",
          "data": {
            "text/plain": [
              "RandomForestClassifier(random_state=42)"
            ],
            "text/html": [
              "<style>#sk-container-id-3 {\n",
              "  /* Definition of color scheme common for light and dark mode */\n",
              "  --sklearn-color-text: black;\n",
              "  --sklearn-color-line: gray;\n",
              "  /* Definition of color scheme for unfitted estimators */\n",
              "  --sklearn-color-unfitted-level-0: #fff5e6;\n",
              "  --sklearn-color-unfitted-level-1: #f6e4d2;\n",
              "  --sklearn-color-unfitted-level-2: #ffe0b3;\n",
              "  --sklearn-color-unfitted-level-3: chocolate;\n",
              "  /* Definition of color scheme for fitted estimators */\n",
              "  --sklearn-color-fitted-level-0: #f0f8ff;\n",
              "  --sklearn-color-fitted-level-1: #d4ebff;\n",
              "  --sklearn-color-fitted-level-2: #b3dbfd;\n",
              "  --sklearn-color-fitted-level-3: cornflowerblue;\n",
              "\n",
              "  /* Specific color for light theme */\n",
              "  --sklearn-color-text-on-default-background: var(--sg-text-color, var(--theme-code-foreground, var(--jp-content-font-color1, black)));\n",
              "  --sklearn-color-background: var(--sg-background-color, var(--theme-background, var(--jp-layout-color0, white)));\n",
              "  --sklearn-color-border-box: var(--sg-text-color, var(--theme-code-foreground, var(--jp-content-font-color1, black)));\n",
              "  --sklearn-color-icon: #696969;\n",
              "\n",
              "  @media (prefers-color-scheme: dark) {\n",
              "    /* Redefinition of color scheme for dark theme */\n",
              "    --sklearn-color-text-on-default-background: var(--sg-text-color, var(--theme-code-foreground, var(--jp-content-font-color1, white)));\n",
              "    --sklearn-color-background: var(--sg-background-color, var(--theme-background, var(--jp-layout-color0, #111)));\n",
              "    --sklearn-color-border-box: var(--sg-text-color, var(--theme-code-foreground, var(--jp-content-font-color1, white)));\n",
              "    --sklearn-color-icon: #878787;\n",
              "  }\n",
              "}\n",
              "\n",
              "#sk-container-id-3 {\n",
              "  color: var(--sklearn-color-text);\n",
              "}\n",
              "\n",
              "#sk-container-id-3 pre {\n",
              "  padding: 0;\n",
              "}\n",
              "\n",
              "#sk-container-id-3 input.sk-hidden--visually {\n",
              "  border: 0;\n",
              "  clip: rect(1px 1px 1px 1px);\n",
              "  clip: rect(1px, 1px, 1px, 1px);\n",
              "  height: 1px;\n",
              "  margin: -1px;\n",
              "  overflow: hidden;\n",
              "  padding: 0;\n",
              "  position: absolute;\n",
              "  width: 1px;\n",
              "}\n",
              "\n",
              "#sk-container-id-3 div.sk-dashed-wrapped {\n",
              "  border: 1px dashed var(--sklearn-color-line);\n",
              "  margin: 0 0.4em 0.5em 0.4em;\n",
              "  box-sizing: border-box;\n",
              "  padding-bottom: 0.4em;\n",
              "  background-color: var(--sklearn-color-background);\n",
              "}\n",
              "\n",
              "#sk-container-id-3 div.sk-container {\n",
              "  /* jupyter's `normalize.less` sets `[hidden] { display: none; }`\n",
              "     but bootstrap.min.css set `[hidden] { display: none !important; }`\n",
              "     so we also need the `!important` here to be able to override the\n",
              "     default hidden behavior on the sphinx rendered scikit-learn.org.\n",
              "     See: https://github.com/scikit-learn/scikit-learn/issues/21755 */\n",
              "  display: inline-block !important;\n",
              "  position: relative;\n",
              "}\n",
              "\n",
              "#sk-container-id-3 div.sk-text-repr-fallback {\n",
              "  display: none;\n",
              "}\n",
              "\n",
              "div.sk-parallel-item,\n",
              "div.sk-serial,\n",
              "div.sk-item {\n",
              "  /* draw centered vertical line to link estimators */\n",
              "  background-image: linear-gradient(var(--sklearn-color-text-on-default-background), var(--sklearn-color-text-on-default-background));\n",
              "  background-size: 2px 100%;\n",
              "  background-repeat: no-repeat;\n",
              "  background-position: center center;\n",
              "}\n",
              "\n",
              "/* Parallel-specific style estimator block */\n",
              "\n",
              "#sk-container-id-3 div.sk-parallel-item::after {\n",
              "  content: \"\";\n",
              "  width: 100%;\n",
              "  border-bottom: 2px solid var(--sklearn-color-text-on-default-background);\n",
              "  flex-grow: 1;\n",
              "}\n",
              "\n",
              "#sk-container-id-3 div.sk-parallel {\n",
              "  display: flex;\n",
              "  align-items: stretch;\n",
              "  justify-content: center;\n",
              "  background-color: var(--sklearn-color-background);\n",
              "  position: relative;\n",
              "}\n",
              "\n",
              "#sk-container-id-3 div.sk-parallel-item {\n",
              "  display: flex;\n",
              "  flex-direction: column;\n",
              "}\n",
              "\n",
              "#sk-container-id-3 div.sk-parallel-item:first-child::after {\n",
              "  align-self: flex-end;\n",
              "  width: 50%;\n",
              "}\n",
              "\n",
              "#sk-container-id-3 div.sk-parallel-item:last-child::after {\n",
              "  align-self: flex-start;\n",
              "  width: 50%;\n",
              "}\n",
              "\n",
              "#sk-container-id-3 div.sk-parallel-item:only-child::after {\n",
              "  width: 0;\n",
              "}\n",
              "\n",
              "/* Serial-specific style estimator block */\n",
              "\n",
              "#sk-container-id-3 div.sk-serial {\n",
              "  display: flex;\n",
              "  flex-direction: column;\n",
              "  align-items: center;\n",
              "  background-color: var(--sklearn-color-background);\n",
              "  padding-right: 1em;\n",
              "  padding-left: 1em;\n",
              "}\n",
              "\n",
              "\n",
              "/* Toggleable style: style used for estimator/Pipeline/ColumnTransformer box that is\n",
              "clickable and can be expanded/collapsed.\n",
              "- Pipeline and ColumnTransformer use this feature and define the default style\n",
              "- Estimators will overwrite some part of the style using the `sk-estimator` class\n",
              "*/\n",
              "\n",
              "/* Pipeline and ColumnTransformer style (default) */\n",
              "\n",
              "#sk-container-id-3 div.sk-toggleable {\n",
              "  /* Default theme specific background. It is overwritten whether we have a\n",
              "  specific estimator or a Pipeline/ColumnTransformer */\n",
              "  background-color: var(--sklearn-color-background);\n",
              "}\n",
              "\n",
              "/* Toggleable label */\n",
              "#sk-container-id-3 label.sk-toggleable__label {\n",
              "  cursor: pointer;\n",
              "  display: block;\n",
              "  width: 100%;\n",
              "  margin-bottom: 0;\n",
              "  padding: 0.5em;\n",
              "  box-sizing: border-box;\n",
              "  text-align: center;\n",
              "}\n",
              "\n",
              "#sk-container-id-3 label.sk-toggleable__label-arrow:before {\n",
              "  /* Arrow on the left of the label */\n",
              "  content: \"▸\";\n",
              "  float: left;\n",
              "  margin-right: 0.25em;\n",
              "  color: var(--sklearn-color-icon);\n",
              "}\n",
              "\n",
              "#sk-container-id-3 label.sk-toggleable__label-arrow:hover:before {\n",
              "  color: var(--sklearn-color-text);\n",
              "}\n",
              "\n",
              "/* Toggleable content - dropdown */\n",
              "\n",
              "#sk-container-id-3 div.sk-toggleable__content {\n",
              "  max-height: 0;\n",
              "  max-width: 0;\n",
              "  overflow: hidden;\n",
              "  text-align: left;\n",
              "  /* unfitted */\n",
              "  background-color: var(--sklearn-color-unfitted-level-0);\n",
              "}\n",
              "\n",
              "#sk-container-id-3 div.sk-toggleable__content.fitted {\n",
              "  /* fitted */\n",
              "  background-color: var(--sklearn-color-fitted-level-0);\n",
              "}\n",
              "\n",
              "#sk-container-id-3 div.sk-toggleable__content pre {\n",
              "  margin: 0.2em;\n",
              "  border-radius: 0.25em;\n",
              "  color: var(--sklearn-color-text);\n",
              "  /* unfitted */\n",
              "  background-color: var(--sklearn-color-unfitted-level-0);\n",
              "}\n",
              "\n",
              "#sk-container-id-3 div.sk-toggleable__content.fitted pre {\n",
              "  /* unfitted */\n",
              "  background-color: var(--sklearn-color-fitted-level-0);\n",
              "}\n",
              "\n",
              "#sk-container-id-3 input.sk-toggleable__control:checked~div.sk-toggleable__content {\n",
              "  /* Expand drop-down */\n",
              "  max-height: 200px;\n",
              "  max-width: 100%;\n",
              "  overflow: auto;\n",
              "}\n",
              "\n",
              "#sk-container-id-3 input.sk-toggleable__control:checked~label.sk-toggleable__label-arrow:before {\n",
              "  content: \"▾\";\n",
              "}\n",
              "\n",
              "/* Pipeline/ColumnTransformer-specific style */\n",
              "\n",
              "#sk-container-id-3 div.sk-label input.sk-toggleable__control:checked~label.sk-toggleable__label {\n",
              "  color: var(--sklearn-color-text);\n",
              "  background-color: var(--sklearn-color-unfitted-level-2);\n",
              "}\n",
              "\n",
              "#sk-container-id-3 div.sk-label.fitted input.sk-toggleable__control:checked~label.sk-toggleable__label {\n",
              "  background-color: var(--sklearn-color-fitted-level-2);\n",
              "}\n",
              "\n",
              "/* Estimator-specific style */\n",
              "\n",
              "/* Colorize estimator box */\n",
              "#sk-container-id-3 div.sk-estimator input.sk-toggleable__control:checked~label.sk-toggleable__label {\n",
              "  /* unfitted */\n",
              "  background-color: var(--sklearn-color-unfitted-level-2);\n",
              "}\n",
              "\n",
              "#sk-container-id-3 div.sk-estimator.fitted input.sk-toggleable__control:checked~label.sk-toggleable__label {\n",
              "  /* fitted */\n",
              "  background-color: var(--sklearn-color-fitted-level-2);\n",
              "}\n",
              "\n",
              "#sk-container-id-3 div.sk-label label.sk-toggleable__label,\n",
              "#sk-container-id-3 div.sk-label label {\n",
              "  /* The background is the default theme color */\n",
              "  color: var(--sklearn-color-text-on-default-background);\n",
              "}\n",
              "\n",
              "/* On hover, darken the color of the background */\n",
              "#sk-container-id-3 div.sk-label:hover label.sk-toggleable__label {\n",
              "  color: var(--sklearn-color-text);\n",
              "  background-color: var(--sklearn-color-unfitted-level-2);\n",
              "}\n",
              "\n",
              "/* Label box, darken color on hover, fitted */\n",
              "#sk-container-id-3 div.sk-label.fitted:hover label.sk-toggleable__label.fitted {\n",
              "  color: var(--sklearn-color-text);\n",
              "  background-color: var(--sklearn-color-fitted-level-2);\n",
              "}\n",
              "\n",
              "/* Estimator label */\n",
              "\n",
              "#sk-container-id-3 div.sk-label label {\n",
              "  font-family: monospace;\n",
              "  font-weight: bold;\n",
              "  display: inline-block;\n",
              "  line-height: 1.2em;\n",
              "}\n",
              "\n",
              "#sk-container-id-3 div.sk-label-container {\n",
              "  text-align: center;\n",
              "}\n",
              "\n",
              "/* Estimator-specific */\n",
              "#sk-container-id-3 div.sk-estimator {\n",
              "  font-family: monospace;\n",
              "  border: 1px dotted var(--sklearn-color-border-box);\n",
              "  border-radius: 0.25em;\n",
              "  box-sizing: border-box;\n",
              "  margin-bottom: 0.5em;\n",
              "  /* unfitted */\n",
              "  background-color: var(--sklearn-color-unfitted-level-0);\n",
              "}\n",
              "\n",
              "#sk-container-id-3 div.sk-estimator.fitted {\n",
              "  /* fitted */\n",
              "  background-color: var(--sklearn-color-fitted-level-0);\n",
              "}\n",
              "\n",
              "/* on hover */\n",
              "#sk-container-id-3 div.sk-estimator:hover {\n",
              "  /* unfitted */\n",
              "  background-color: var(--sklearn-color-unfitted-level-2);\n",
              "}\n",
              "\n",
              "#sk-container-id-3 div.sk-estimator.fitted:hover {\n",
              "  /* fitted */\n",
              "  background-color: var(--sklearn-color-fitted-level-2);\n",
              "}\n",
              "\n",
              "/* Specification for estimator info (e.g. \"i\" and \"?\") */\n",
              "\n",
              "/* Common style for \"i\" and \"?\" */\n",
              "\n",
              ".sk-estimator-doc-link,\n",
              "a:link.sk-estimator-doc-link,\n",
              "a:visited.sk-estimator-doc-link {\n",
              "  float: right;\n",
              "  font-size: smaller;\n",
              "  line-height: 1em;\n",
              "  font-family: monospace;\n",
              "  background-color: var(--sklearn-color-background);\n",
              "  border-radius: 1em;\n",
              "  height: 1em;\n",
              "  width: 1em;\n",
              "  text-decoration: none !important;\n",
              "  margin-left: 1ex;\n",
              "  /* unfitted */\n",
              "  border: var(--sklearn-color-unfitted-level-1) 1pt solid;\n",
              "  color: var(--sklearn-color-unfitted-level-1);\n",
              "}\n",
              "\n",
              ".sk-estimator-doc-link.fitted,\n",
              "a:link.sk-estimator-doc-link.fitted,\n",
              "a:visited.sk-estimator-doc-link.fitted {\n",
              "  /* fitted */\n",
              "  border: var(--sklearn-color-fitted-level-1) 1pt solid;\n",
              "  color: var(--sklearn-color-fitted-level-1);\n",
              "}\n",
              "\n",
              "/* On hover */\n",
              "div.sk-estimator:hover .sk-estimator-doc-link:hover,\n",
              ".sk-estimator-doc-link:hover,\n",
              "div.sk-label-container:hover .sk-estimator-doc-link:hover,\n",
              ".sk-estimator-doc-link:hover {\n",
              "  /* unfitted */\n",
              "  background-color: var(--sklearn-color-unfitted-level-3);\n",
              "  color: var(--sklearn-color-background);\n",
              "  text-decoration: none;\n",
              "}\n",
              "\n",
              "div.sk-estimator.fitted:hover .sk-estimator-doc-link.fitted:hover,\n",
              ".sk-estimator-doc-link.fitted:hover,\n",
              "div.sk-label-container:hover .sk-estimator-doc-link.fitted:hover,\n",
              ".sk-estimator-doc-link.fitted:hover {\n",
              "  /* fitted */\n",
              "  background-color: var(--sklearn-color-fitted-level-3);\n",
              "  color: var(--sklearn-color-background);\n",
              "  text-decoration: none;\n",
              "}\n",
              "\n",
              "/* Span, style for the box shown on hovering the info icon */\n",
              ".sk-estimator-doc-link span {\n",
              "  display: none;\n",
              "  z-index: 9999;\n",
              "  position: relative;\n",
              "  font-weight: normal;\n",
              "  right: .2ex;\n",
              "  padding: .5ex;\n",
              "  margin: .5ex;\n",
              "  width: min-content;\n",
              "  min-width: 20ex;\n",
              "  max-width: 50ex;\n",
              "  color: var(--sklearn-color-text);\n",
              "  box-shadow: 2pt 2pt 4pt #999;\n",
              "  /* unfitted */\n",
              "  background: var(--sklearn-color-unfitted-level-0);\n",
              "  border: .5pt solid var(--sklearn-color-unfitted-level-3);\n",
              "}\n",
              "\n",
              ".sk-estimator-doc-link.fitted span {\n",
              "  /* fitted */\n",
              "  background: var(--sklearn-color-fitted-level-0);\n",
              "  border: var(--sklearn-color-fitted-level-3);\n",
              "}\n",
              "\n",
              ".sk-estimator-doc-link:hover span {\n",
              "  display: block;\n",
              "}\n",
              "\n",
              "/* \"?\"-specific style due to the `<a>` HTML tag */\n",
              "\n",
              "#sk-container-id-3 a.estimator_doc_link {\n",
              "  float: right;\n",
              "  font-size: 1rem;\n",
              "  line-height: 1em;\n",
              "  font-family: monospace;\n",
              "  background-color: var(--sklearn-color-background);\n",
              "  border-radius: 1rem;\n",
              "  height: 1rem;\n",
              "  width: 1rem;\n",
              "  text-decoration: none;\n",
              "  /* unfitted */\n",
              "  color: var(--sklearn-color-unfitted-level-1);\n",
              "  border: var(--sklearn-color-unfitted-level-1) 1pt solid;\n",
              "}\n",
              "\n",
              "#sk-container-id-3 a.estimator_doc_link.fitted {\n",
              "  /* fitted */\n",
              "  border: var(--sklearn-color-fitted-level-1) 1pt solid;\n",
              "  color: var(--sklearn-color-fitted-level-1);\n",
              "}\n",
              "\n",
              "/* On hover */\n",
              "#sk-container-id-3 a.estimator_doc_link:hover {\n",
              "  /* unfitted */\n",
              "  background-color: var(--sklearn-color-unfitted-level-3);\n",
              "  color: var(--sklearn-color-background);\n",
              "  text-decoration: none;\n",
              "}\n",
              "\n",
              "#sk-container-id-3 a.estimator_doc_link.fitted:hover {\n",
              "  /* fitted */\n",
              "  background-color: var(--sklearn-color-fitted-level-3);\n",
              "}\n",
              "</style><div id=\"sk-container-id-3\" class=\"sk-top-container\"><div class=\"sk-text-repr-fallback\"><pre>RandomForestClassifier(random_state=42)</pre><b>In a Jupyter environment, please rerun this cell to show the HTML representation or trust the notebook. <br />On GitHub, the HTML representation is unable to render, please try loading this page with nbviewer.org.</b></div><div class=\"sk-container\" hidden><div class=\"sk-item\"><div class=\"sk-estimator fitted sk-toggleable\"><input class=\"sk-toggleable__control sk-hidden--visually\" id=\"sk-estimator-id-3\" type=\"checkbox\" checked><label for=\"sk-estimator-id-3\" class=\"sk-toggleable__label fitted sk-toggleable__label-arrow fitted\">&nbsp;&nbsp;RandomForestClassifier<a class=\"sk-estimator-doc-link fitted\" rel=\"noreferrer\" target=\"_blank\" href=\"https://scikit-learn.org/1.5/modules/generated/sklearn.ensemble.RandomForestClassifier.html\">?<span>Documentation for RandomForestClassifier</span></a><span class=\"sk-estimator-doc-link fitted\">i<span>Fitted</span></span></label><div class=\"sk-toggleable__content fitted\"><pre>RandomForestClassifier(random_state=42)</pre></div> </div></div></div></div>"
            ]
          },
          "metadata": {},
          "execution_count": 41
        }
      ]
    },
    {
      "cell_type": "code",
      "source": [
        "# Step 5: Make Predictions\n",
        "y_pred = model.predict(X_test)"
      ],
      "metadata": {
        "id": "fxAUbByFGmqN"
      },
      "execution_count": null,
      "outputs": []
    },
    {
      "cell_type": "code",
      "source": [
        "# Step 6: Evaluate the Model\n",
        "print(\"Confusion Matrix:\")\n",
        "print(confusion_matrix(y_test, y_pred))"
      ],
      "metadata": {
        "colab": {
          "base_uri": "https://localhost:8080/"
        },
        "id": "S1Ylo3dWGri4",
        "outputId": "f2c61033-c567-42b5-a13a-1841e621443b"
      },
      "execution_count": null,
      "outputs": [
        {
          "output_type": "stream",
          "name": "stdout",
          "text": [
            "Confusion Matrix:\n",
            "[[ 58   0   0   0   0  10   7   9   7   0   1   3   0   0   0   0   5   0\n",
            "    0   0   0   1   1  14]\n",
            " [  1  21   0   0   0   2   6   0   1   0   1   3   0   1   0   0   1   2\n",
            "    0   1   0   0   0   1]\n",
            " [  0   0   1   0   0   0   0   0   0   0   0   0   0   0   0   0   0   0\n",
            "    0   0   0   0   0   0]\n",
            " [  0   0   0   2   0   0   2   1   0   0   0   0   0   0   0   0   0   0\n",
            "    0   0   0   0   0   0]\n",
            " [  0   0   0   0  14   1   5   0   4   0   0   0   0   0   0   0   0   0\n",
            "    0   1   0   0   0   1]\n",
            " [  4   1   0   0   1 115  15   9  16   0   8   4   1   2   0   0   3   2\n",
            "    0   5   0   0   0  16]\n",
            " [  6   1   0   0   0  13 126  15  18   0   3   7   0   1   0   0   2   2\n",
            "    0   5   1   0   0   3]\n",
            " [  2   1   0   0   0  10  14 101  18   0   2   8   0   0   1   0   2   1\n",
            "    0   1   1   0   1  10]\n",
            " [  4   0   0   0   0  17  18  12  79   0   5   6   0   0   0   0   0   0\n",
            "    0   1   0   1   0  11]\n",
            " [  0   0   0   0   0   1   0   0   0   0   0   0   0   0   0   0   0   0\n",
            "    0   0   0   0   0   0]\n",
            " [  2   0   0   0   0   9   7   6   2   0  52   0   0   0   0   0   1   0\n",
            "    0   1   0   0   0   4]\n",
            " [  6   0   0   0   0   6   8  11   6   0   0  66   0   0   2   0   2   2\n",
            "    0   1   0   0   2  11]\n",
            " [  1   0   0   1   0   3   2   1   0   0   0   0  15   0   0   0   0   0\n",
            "    0   0   0   0   0   1]\n",
            " [  2   0   0   0   0   3   2   3   1   0   0   0   0   5   0   0   0   1\n",
            "    0   0   0   0   0   2]\n",
            " [  3   0   0   0   1   0   0   0   0   0   0   0   0   0   4   0   2   0\n",
            "    0   0   0   0   0   4]\n",
            " [  0   0   0   0   0   0   0   0   1   0   1   0   0   0   0   2   1   0\n",
            "    0   0   0   0   1   1]\n",
            " [  2   0   0   0   0   3   3   1   0   0   1   6   0   0   1   0  43   0\n",
            "    0   1   0   2   0   8]\n",
            " [  1   2   0   0   0   6   0   0   1   0   1   0   0   2   0   0   2  24\n",
            "    0   0   0   0   0   1]\n",
            " [  0   0   0   0   0   1   0   0   0   0   0   0   0   0   0   0   0   0\n",
            "    1   0   0   0   0   0]\n",
            " [  4   0   0   0   1   6   5   7   7   0   2   1   0   0   0   0   2   0\n",
            "    0  32   0   0   0   5]\n",
            " [  0   0   0   0   0   0   2   0   0   0   1   1   0   0   0   0   0   0\n",
            "    0   0   5   0   0   0]\n",
            " [  2   1   0   0   0   4   3   1   1   0   1   0   0   0   0   0   0   0\n",
            "    0   0   0  17   0   0]\n",
            " [  1   0   0   0   0   2   2   5   2   0   0   1   0   0   0   0   0   0\n",
            "    0   0   0   0   8   0]\n",
            " [  4   1   0   0   0  21  15  19  14   0   5   4   0   0   0   0   0   1\n",
            "    0   3   0   1   3 100]]\n"
          ]
        }
      ]
    },
    {
      "cell_type": "code",
      "source": [
        "print(\"\\nClassification Report:\")\n",
        "print(classification_report(y_test, y_pred))"
      ],
      "metadata": {
        "colab": {
          "base_uri": "https://localhost:8080/"
        },
        "id": "CxpYbiz9GuoF",
        "outputId": "4221698e-617c-43d2-8458-f11167c281f3"
      },
      "execution_count": null,
      "outputs": [
        {
          "output_type": "stream",
          "name": "stdout",
          "text": [
            "\n",
            "Classification Report:\n",
            "                  precision    recall  f1-score   support\n",
            "\n",
            "             art       0.56      0.50      0.53       116\n",
            "            cars       0.75      0.51      0.61        41\n",
            "       education       1.00      1.00      1.00         1\n",
            "entrepreneurship       0.67      0.40      0.50         5\n",
            "          events       0.82      0.54      0.65        26\n",
            "          family       0.49      0.57      0.53       202\n",
            "         fashion       0.52      0.62      0.57       203\n",
            "         fitness       0.50      0.58      0.54       173\n",
            "            food       0.44      0.51      0.48       154\n",
            "          gaming       0.00      0.00      0.00         1\n",
            "       lifestyle       0.62      0.62      0.62        84\n",
            "          makeup       0.60      0.54      0.57       123\n",
            "      motivation       0.94      0.62      0.75        24\n",
            "          movies       0.45      0.26      0.33        19\n",
            "           music       0.50      0.29      0.36        14\n",
            "          nature       1.00      0.29      0.44         7\n",
            "            pets       0.65      0.61      0.63        71\n",
            "     photography       0.69      0.60      0.64        40\n",
            "          quotes       1.00      0.50      0.67         2\n",
            "            read       0.62      0.44      0.52        72\n",
            "   relationships       0.71      0.56      0.62         9\n",
            "          sports       0.77      0.57      0.65        30\n",
            "      technology       0.50      0.38      0.43        21\n",
            "          travel       0.52      0.52      0.52       191\n",
            "\n",
            "        accuracy                           0.55      1629\n",
            "       macro avg       0.64      0.50      0.55      1629\n",
            "    weighted avg       0.56      0.55      0.55      1629\n",
            "\n"
          ]
        },
        {
          "output_type": "stream",
          "name": "stderr",
          "text": [
            "/usr/local/lib/python3.10/dist-packages/sklearn/metrics/_classification.py:1531: UndefinedMetricWarning: Precision is ill-defined and being set to 0.0 in labels with no predicted samples. Use `zero_division` parameter to control this behavior.\n",
            "  _warn_prf(average, modifier, f\"{metric.capitalize()} is\", len(result))\n",
            "/usr/local/lib/python3.10/dist-packages/sklearn/metrics/_classification.py:1531: UndefinedMetricWarning: Precision is ill-defined and being set to 0.0 in labels with no predicted samples. Use `zero_division` parameter to control this behavior.\n",
            "  _warn_prf(average, modifier, f\"{metric.capitalize()} is\", len(result))\n",
            "/usr/local/lib/python3.10/dist-packages/sklearn/metrics/_classification.py:1531: UndefinedMetricWarning: Precision is ill-defined and being set to 0.0 in labels with no predicted samples. Use `zero_division` parameter to control this behavior.\n",
            "  _warn_prf(average, modifier, f\"{metric.capitalize()} is\", len(result))\n"
          ]
        }
      ]
    },
    {
      "cell_type": "code",
      "source": [
        "print(\"Accuracy Score:\", accuracy_score(y_test, y_pred))"
      ],
      "metadata": {
        "colab": {
          "base_uri": "https://localhost:8080/"
        },
        "id": "ENPH3dxxGyeg",
        "outputId": "c242b289-b1f3-48d1-b7ae-ccd23a766f72"
      },
      "execution_count": null,
      "outputs": [
        {
          "output_type": "stream",
          "name": "stdout",
          "text": [
            "Accuracy Score: 0.5469613259668509\n"
          ]
        }
      ]
    },
    {
      "cell_type": "code",
      "source": [
        "# Create a sample new data point with all required features\n",
        "new_data = pd.DataFrame({\n",
        "    'engagement_rate': [0.05],  # Example engagement rate\n",
        "    'caption_length': [120],      # Example caption length\n",
        "    'likes': [100],               # Example likes\n",
        "    'comments': [10]              # Example comments\n",
        "})\n",
        "\n",
        "# Make predictions\n",
        "predicted_content_type = model.predict(new_data)\n",
        "print(\"Predicted content type for the new data:\", predicted_content_type[0])"
      ],
      "metadata": {
        "colab": {
          "base_uri": "https://localhost:8080/"
        },
        "id": "CzWfDOOAG8_G",
        "outputId": "a8acf611-71b3-45f9-bb3c-966d54c61a0b"
      },
      "execution_count": null,
      "outputs": [
        {
          "output_type": "stream",
          "name": "stdout",
          "text": [
            "Predicted content type for the new data: travel\n"
          ]
        }
      ]
    },
    {
      "cell_type": "code",
      "source": [
        "import pandas as pd\n",
        "import numpy as np\n",
        "\n",
        "# Generate synthetic test data\n",
        "synthetic_data = pd.DataFrame({\n",
        "    'engagement_rate': np.random.uniform(0, 1, 100),  # Random engagement rates between 0 and 1\n",
        "    'caption_length': np.random.randint(0, 300, 100),  # Random caption lengths between 0 and 300\n",
        "    'likes': np.random.randint(0, 1000, 100),          # Random likes between 0 and 1000\n",
        "    'comments': np.random.randint(0, 100, 100)         # Random comments between 0 and 100\n",
        "})\n",
        "\n",
        "# Make predictions on synthetic data\n",
        "predictions = model.predict(synthetic_data)\n",
        "print(predictions)"
      ],
      "metadata": {
        "colab": {
          "base_uri": "https://localhost:8080/"
        },
        "id": "0qEAAGqsKFbV",
        "outputId": "ceb6f54d-a986-4984-a379-6db7800d1dc3"
      },
      "execution_count": null,
      "outputs": [
        {
          "output_type": "stream",
          "name": "stdout",
          "text": [
            "['fashion' 'fashion' 'makeup' 'art' 'motivation' 'fashion' 'travel'\n",
            " 'travel' 'pets' 'travel' 'makeup' 'travel' 'pets' 'travel' 'pets'\n",
            " 'fashion' 'travel' 'family' 'pets' 'travel' 'fashion' 'fashion' 'food'\n",
            " 'fashion' 'pets' 'travel' 'travel' 'makeup' 'pets' 'travel' 'family'\n",
            " 'fashion' 'fashion' 'pets' 'travel' 'family' 'fashion' 'travel' 'fashion'\n",
            " 'fashion' 'fashion' 'fashion' 'travel' 'travel' 'fashion' 'motivation'\n",
            " 'fashion' 'travel' 'pets' 'fashion' 'fashion' 'art' 'travel' 'travel'\n",
            " 'travel' 'fashion' 'travel' 'pets' 'makeup' 'pets' 'fashion' 'pets'\n",
            " 'fashion' 'travel' 'art' 'travel' 'travel' 'family' 'travel' 'travel'\n",
            " 'fashion' 'family' 'fashion' 'fashion' 'travel' 'travel' 'pets' 'fashion'\n",
            " 'pets' 'food' 'fashion' 'travel' 'pets' 'read' 'fashion' 'family'\n",
            " 'travel' 'travel' 'travel' 'fashion' 'food' 'fashion' 'travel' 'family'\n",
            " 'fashion' 'pets' 'travel' 'travel' 'food' 'fashion']\n"
          ]
        }
      ]
    },
    {
      "cell_type": "code",
      "source": [
        "import matplotlib.pyplot as plt\n",
        "\n",
        "# Assuming y_train is your target variable\n",
        "plt.figure(figsize=(10, 6))\n",
        "y_train.value_counts().plot(kind='bar')\n",
        "plt.title('Class Distribution in Training Data')\n",
        "plt.xlabel('Niche')\n",
        "plt.ylabel('Count')\n",
        "plt.show()"
      ],
      "metadata": {
        "colab": {
          "base_uri": "https://localhost:8080/",
          "height": 670
        },
        "id": "pwMhcFvxKzJD",
        "outputId": "011c9dc7-bf38-4c67-adc8-332b76340af9"
      },
      "execution_count": null,
      "outputs": [
        {
          "output_type": "display_data",
          "data": {
            "text/plain": [
              "<Figure size 1000x600 with 1 Axes>"
            ],
            "image/png": "[encoded data removed]"
          },
          "metadata": {}
        }
      ]
    }
  ]
}